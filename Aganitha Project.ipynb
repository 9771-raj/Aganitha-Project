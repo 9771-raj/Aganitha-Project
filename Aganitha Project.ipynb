{
 "cells": [
  {
   "cell_type": "markdown",
   "id": "84adb2e6",
   "metadata": {},
   "source": [
    "# 1. Connect MySQL database from jupyter notebook"
   ]
  },
  {
   "cell_type": "code",
   "execution_count": 22,
   "id": "49d77f33",
   "metadata": {},
   "outputs": [],
   "source": [
    "import mysql.connector"
   ]
  },
  {
   "cell_type": "code",
   "execution_count": 23,
   "id": "83880bf0",
   "metadata": {},
   "outputs": [],
   "source": [
    "mydb=mysql.connector.connect(\n",
    "     host=\"localhost\",\n",
    "    user=\"root\",\n",
    "    password=\"Dholak@123\",\n",
    "    database=\"sakila\"\n",
    ")\n",
    "    \n"
   ]
  },
  {
   "cell_type": "code",
   "execution_count": 24,
   "id": "5b0e58a6",
   "metadata": {},
   "outputs": [],
   "source": [
    "mycursor=mydb.cursor()"
   ]
  },
  {
   "cell_type": "markdown",
   "id": "94230477",
   "metadata": {},
   "source": [
    "# 2. SQL queries"
   ]
  },
  {
   "cell_type": "code",
   "execution_count": 37,
   "id": "1eecd326",
   "metadata": {},
   "outputs": [
    {
     "name": "stdout",
     "output_type": "stream",
     "text": [
      "(1, 'ACADEMY DINOSAUR', 'A Epic Drama of a Feminist And a Mad Scientist who must Battle a Teacher in The Canadian Rockies', 2006, 1, None, 6, Decimal('0.99'), 86, Decimal('20.99'), 'PG', {'Deleted Scenes', 'Behind the Scenes'}, datetime.datetime(2006, 2, 15, 5, 3, 42))\n",
      "(13, 'ALI FOREVER', 'A Action-Packed Drama of a Dentist And a Crocodile who must Battle a Feminist in The Canadian Rockies', 2006, 1, None, 4, Decimal('4.99'), 150, Decimal('21.99'), 'PG', {'Deleted Scenes', 'Behind the Scenes'}, datetime.datetime(2006, 2, 15, 5, 3, 42))\n",
      "(14, 'ALICE FANTASIA', 'A Emotional Drama of a A Shark And a Database Administrator who must Vanquish a Pioneer in Soviet Georgia', 2006, 1, None, 6, Decimal('0.99'), 94, Decimal('23.99'), 'NC-17', {'Deleted Scenes', 'Behind the Scenes', 'Trailers'}, datetime.datetime(2006, 2, 15, 5, 3, 42))\n",
      "(15, 'ALIEN CENTER', 'A Brilliant Drama of a Cat And a Mad Scientist who must Battle a Feminist in A MySQL Convention', 2006, 1, None, 5, Decimal('2.99'), 46, Decimal('10.99'), 'NC-17', {'Commentaries', 'Behind the Scenes', 'Trailers'}, datetime.datetime(2006, 2, 15, 5, 3, 42))\n",
      "(16, 'ALLEY EVOLUTION', 'A Fast-Paced Drama of a Robot And a Composer who must Battle a Astronaut in New Orleans', 2006, 1, None, 6, Decimal('2.99'), 180, Decimal('23.99'), 'NC-17', {'Commentaries', 'Trailers'}, datetime.datetime(2006, 2, 15, 5, 3, 42))\n",
      "(18, 'ALTER VICTORY', 'A Thoughtful Drama of a Composer And a Feminist who must Meet a Secret Agent in The Canadian Rockies', 2006, 1, None, 6, Decimal('0.99'), 57, Decimal('27.99'), 'PG-13', {'Behind the Scenes', 'Trailers'}, datetime.datetime(2006, 2, 15, 5, 3, 42))\n",
      "(20, 'AMELIE HELLFIGHTERS', 'A Boring Drama of a Woman And a Squirrel who must Conquer a Student in A Baloon', 2006, 1, None, 4, Decimal('4.99'), 79, Decimal('23.99'), 'R', {'Commentaries', 'Deleted Scenes', 'Behind the Scenes'}, datetime.datetime(2006, 2, 15, 5, 3, 42))\n",
      "(21, 'AMERICAN CIRCUS', 'A Insightful Drama of a Girl And a Astronaut who must Face a Database Administrator in A Shark Tank', 2006, 1, None, 3, Decimal('4.99'), 129, Decimal('17.99'), 'R', {'Commentaries', 'Behind the Scenes'}, datetime.datetime(2006, 2, 15, 5, 3, 42))\n",
      "(50, 'BAKED CLEOPATRA', 'A Stunning Drama of a Forensic Psychologist And a Husband who must Overcome a Waitress in A Monastery', 2006, 1, None, 3, Decimal('2.99'), 182, Decimal('20.99'), 'G', {'Commentaries', 'Behind the Scenes'}, datetime.datetime(2006, 2, 15, 5, 3, 42))\n",
      "(53, 'BANG KWAI', 'A Epic Drama of a Madman And a Cat who must Face a A Shark in An Abandoned Amusement Park', 2006, 1, None, 5, Decimal('2.99'), 87, Decimal('25.99'), 'NC-17', {'Commentaries', 'Deleted Scenes', 'Behind the Scenes'}, datetime.datetime(2006, 2, 15, 5, 3, 42))\n",
      "(54, 'BANGER PINOCCHIO', 'A Awe-Inspiring Drama of a Car And a Pastry Chef who must Chase a Crocodile in The First Manned Space Station', 2006, 1, None, 5, Decimal('0.99'), 113, Decimal('15.99'), 'R', {'Commentaries', 'Deleted Scenes', 'Trailers'}, datetime.datetime(2006, 2, 15, 5, 3, 42))\n",
      "(65, 'BEHAVIOR RUNAWAY', 'A Unbelieveable Drama of a Student And a Husband who must Outrace a Sumo Wrestler in Berlin', 2006, 1, None, 3, Decimal('4.99'), 100, Decimal('20.99'), 'PG', {'Deleted Scenes', 'Behind the Scenes', 'Trailers'}, datetime.datetime(2006, 2, 15, 5, 3, 42))\n",
      "(70, 'BIKINI BORROWERS', 'A Astounding Drama of a Astronaut And a Cat who must Discover a Woman in The First Manned Space Station', 2006, 1, None, 7, Decimal('4.99'), 142, Decimal('26.99'), 'NC-17', {'Commentaries', 'Deleted Scenes'}, datetime.datetime(2006, 2, 15, 5, 3, 42))\n",
      "(81, 'BLINDNESS GUN', 'A Touching Drama of a Robot And a Dentist who must Meet a Hunter in A Jet Boat', 2006, 1, None, 6, Decimal('4.99'), 103, Decimal('29.99'), 'PG-13', {'Behind the Scenes', 'Trailers'}, datetime.datetime(2006, 2, 15, 5, 3, 42))\n",
      "(82, 'BLOOD ARGONAUTS', 'A Boring Drama of a Explorer And a Man who must Kill a Lumberjack in A Manhattan Penthouse', 2006, 1, None, 3, Decimal('0.99'), 71, Decimal('13.99'), 'G', {'Commentaries', 'Behind the Scenes', 'Trailers'}, datetime.datetime(2006, 2, 15, 5, 3, 42))\n",
      "(100, 'BROOKLYN DESERT', 'A Beautiful Drama of a Dentist And a Composer who must Battle a Sumo Wrestler in The First Manned Space Station', 2006, 1, None, 7, Decimal('4.99'), 161, Decimal('21.99'), 'R', {'Commentaries'}, datetime.datetime(2006, 2, 15, 5, 3, 42))\n",
      "(105, 'BULL SHAWSHANK', 'A Fanciful Drama of a Moose And a Squirrel who must Conquer a Pioneer in The Canadian Rockies', 2006, 1, None, 6, Decimal('0.99'), 125, Decimal('21.99'), 'NC-17', {'Deleted Scenes'}, datetime.datetime(2006, 2, 15, 5, 3, 42))\n",
      "(112, 'CALENDAR GUNFIGHT', 'A Thrilling Drama of a Frisbee And a Lumberjack who must Sink a Man in Nigeria', 2006, 1, None, 4, Decimal('4.99'), 120, Decimal('22.99'), 'NC-17', {'Commentaries', 'Behind the Scenes', 'Trailers'}, datetime.datetime(2006, 2, 15, 5, 3, 42))\n",
      "(115, 'CAMPUS REMEMBER', 'A Astounding Drama of a Crocodile And a Mad Cow who must Build a Robot in A Jet Boat', 2006, 1, None, 5, Decimal('2.99'), 167, Decimal('27.99'), 'R', {'Behind the Scenes'}, datetime.datetime(2006, 2, 15, 5, 3, 42))\n",
      "(125, 'CASSIDY WYOMING', 'A Intrepid Drama of a Frisbee And a Hunter who must Kill a Secret Agent in New Orleans', 2006, 1, None, 5, Decimal('2.99'), 61, Decimal('19.99'), 'NC-17', {'Commentaries', 'Behind the Scenes'}, datetime.datetime(2006, 2, 15, 5, 3, 42))\n",
      "(136, 'CHAPLIN LICENSE', 'A Boring Drama of a Dog And a Forensic Psychologist who must Outrace a Explorer in Ancient India', 2006, 1, None, 7, Decimal('2.99'), 146, Decimal('26.99'), 'NC-17', {'Behind the Scenes'}, datetime.datetime(2006, 2, 15, 5, 3, 42))\n",
      "(142, 'CHICKEN HELLFIGHTERS', 'A Emotional Drama of a Dog And a Explorer who must Outrace a Technical Writer in Australia', 2006, 1, None, 3, Decimal('0.99'), 122, Decimal('24.99'), 'PG', {'Commentaries', 'Deleted Scenes', 'Behind the Scenes', 'Trailers'}, datetime.datetime(2006, 2, 15, 5, 3, 42))\n",
      "(152, 'CIRCUS YOUTH', 'A Thoughtful Drama of a Pastry Chef And a Dentist who must Pursue a Girl in A Baloon', 2006, 1, None, 5, Decimal('2.99'), 90, Decimal('13.99'), 'PG-13', {'Deleted Scenes', 'Behind the Scenes', 'Trailers'}, datetime.datetime(2006, 2, 15, 5, 3, 42))\n",
      "(158, 'CLONES PINOCCHIO', 'A Amazing Drama of a Car And a Robot who must Pursue a Dentist in New Orleans', 2006, 1, None, 6, Decimal('2.99'), 124, Decimal('16.99'), 'R', {'Behind the Scenes'}, datetime.datetime(2006, 2, 15, 5, 3, 42))\n",
      "(167, 'COMA HEAD', 'A Awe-Inspiring Drama of a Boy And a Frisbee who must Escape a Pastry Chef in California', 2006, 1, None, 6, Decimal('4.99'), 109, Decimal('10.99'), 'NC-17', {'Commentaries'}, datetime.datetime(2006, 2, 15, 5, 3, 42))\n",
      "(177, 'CONNECTICUT TRAMP', 'A Unbelieveable Drama of a Crocodile And a Mad Cow who must Reach a Dentist in A Shark Tank', 2006, 1, None, 4, Decimal('4.99'), 172, Decimal('20.99'), 'R', {'Commentaries', 'Deleted Scenes'}, datetime.datetime(2006, 2, 15, 5, 3, 42))\n",
      "(179, 'CONQUERER NUTS', 'A Taut Drama of a Mad Scientist And a Man who must Escape a Pioneer in An Abandoned Mine Shaft', 2006, 1, None, 4, Decimal('4.99'), 173, Decimal('14.99'), 'G', {'Commentaries', 'Deleted Scenes', 'Behind the Scenes'}, datetime.datetime(2006, 2, 15, 5, 3, 42))\n",
      "(185, 'COWBOY DOOM', 'A Astounding Drama of a Boy And a Lumberjack who must Fight a Butler in A Baloon', 2006, 1, None, 3, Decimal('2.99'), 146, Decimal('10.99'), 'PG', {'Commentaries', 'Deleted Scenes', 'Behind the Scenes'}, datetime.datetime(2006, 2, 15, 5, 3, 42))\n",
      "(189, 'CREATURES SHAKESPEARE', 'A Emotional Drama of a Womanizer And a Squirrel who must Vanquish a Crocodile in Ancient India', 2006, 1, None, 3, Decimal('0.99'), 139, Decimal('23.99'), 'NC-17', {'Deleted Scenes', 'Trailers'}, datetime.datetime(2006, 2, 15, 5, 3, 42))\n",
      "(191, 'CROOKED FROGMEN', 'A Unbelieveable Drama of a Hunter And a Database Administrator who must Battle a Crocodile in An Abandoned Amusement Park', 2006, 1, None, 6, Decimal('0.99'), 143, Decimal('27.99'), 'PG-13', {'Commentaries', 'Deleted Scenes', 'Behind the Scenes'}, datetime.datetime(2006, 2, 15, 5, 3, 42))\n",
      "(201, 'CYCLONE FAMILY', 'A Lacklusture Drama of a Student And a Monkey who must Sink a Womanizer in A MySQL Convention', 2006, 1, None, 7, Decimal('2.99'), 176, Decimal('18.99'), 'PG', {'Deleted Scenes', 'Trailers'}, datetime.datetime(2006, 2, 15, 5, 3, 42))\n",
      "(226, 'DESTINY SATURDAY', 'A Touching Drama of a Crocodile And a Crocodile who must Conquer a Explorer in Soviet Georgia', 2006, 1, None, 4, Decimal('4.99'), 56, Decimal('20.99'), 'G', {'Commentaries', 'Behind the Scenes', 'Trailers'}, datetime.datetime(2006, 2, 15, 5, 3, 42))\n",
      "(231, 'DINOSAUR SECRETARY', 'A Action-Packed Drama of a Feminist And a Girl who must Reach a Robot in The Canadian Rockies', 2006, 1, None, 7, Decimal('2.99'), 63, Decimal('27.99'), 'R', {'Behind the Scenes', 'Trailers'}, datetime.datetime(2006, 2, 15, 5, 3, 42))\n",
      "(238, 'DOCTOR GRAIL', 'A Insightful Drama of a Womanizer And a Waitress who must Reach a Forensic Psychologist in The Outback', 2006, 1, None, 4, Decimal('2.99'), 57, Decimal('29.99'), 'G', {'Commentaries', 'Behind the Scenes', 'Trailers'}, datetime.datetime(2006, 2, 15, 5, 3, 42))\n",
      "(248, 'DOZEN LION', 'A Taut Drama of a Cat And a Girl who must Defeat a Frisbee in The Canadian Rockies', 2006, 1, None, 6, Decimal('4.99'), 177, Decimal('20.99'), 'NC-17', {'Commentaries', 'Deleted Scenes', 'Behind the Scenes'}, datetime.datetime(2006, 2, 15, 5, 3, 42))\n",
      "(270, 'EARTH VISION', 'A Stunning Drama of a Butler And a Madman who must Outrace a Womanizer in Ancient India', 2006, 1, None, 7, Decimal('0.99'), 85, Decimal('29.99'), 'NC-17', {'Commentaries', 'Deleted Scenes', 'Trailers'}, datetime.datetime(2006, 2, 15, 5, 3, 42))\n",
      "(281, 'ENCINO ELF', 'A Astounding Drama of a Feminist And a Teacher who must Confront a Husband in A Baloon', 2006, 1, None, 6, Decimal('0.99'), 143, Decimal('9.99'), 'G', {'Behind the Scenes', 'Trailers'}, datetime.datetime(2006, 2, 15, 5, 3, 42))\n",
      "(293, 'EXORCIST STING', 'A Touching Drama of a Dog And a Sumo Wrestler who must Conquer a Mad Scientist in Berlin', 2006, 1, None, 6, Decimal('2.99'), 167, Decimal('17.99'), 'G', {'Commentaries', 'Deleted Scenes', 'Behind the Scenes'}, datetime.datetime(2006, 2, 15, 5, 3, 42))\n",
      "(294, 'EXPECATIONS NATURAL', 'A Amazing Drama of a Butler And a Husband who must Reach a A Shark in A U-Boat', 2006, 1, None, 5, Decimal('4.99'), 138, Decimal('26.99'), 'PG-13', {'Deleted Scenes'}, datetime.datetime(2006, 2, 15, 5, 3, 42))\n",
      "(296, 'EXPRESS LONELY', 'A Boring Drama of a Astronaut And a Boat who must Face a Boat in California', 2006, 1, None, 5, Decimal('2.99'), 178, Decimal('23.99'), 'R', {'Trailers'}, datetime.datetime(2006, 2, 15, 5, 3, 42))\n",
      "(305, 'FATAL HAUNTED', 'A Beautiful Drama of a Student And a Secret Agent who must Confront a Dentist in Ancient Japan', 2006, 1, None, 6, Decimal('2.99'), 91, Decimal('24.99'), 'PG', {'Behind the Scenes', 'Trailers'}, datetime.datetime(2006, 2, 15, 5, 3, 42))\n",
      "(313, 'FIDELITY DEVIL', 'A Awe-Inspiring Drama of a Technical Writer And a Composer who must Reach a Pastry Chef in A U-Boat', 2006, 1, None, 5, Decimal('4.99'), 118, Decimal('11.99'), 'G', {'Deleted Scenes', 'Behind the Scenes', 'Trailers'}, datetime.datetime(2006, 2, 15, 5, 3, 42))\n",
      "(360, 'GLASS DYING', 'A Astounding Drama of a Frisbee And a Astronaut who must Fight a Dog in Ancient Japan', 2006, 1, None, 4, Decimal('0.99'), 103, Decimal('24.99'), 'G', {'Trailers'}, datetime.datetime(2006, 2, 15, 5, 3, 42))\n",
      "(366, 'GOLDFINGER SENSIBILITY', 'A Insightful Drama of a Mad Scientist And a Hunter who must Defeat a Pastry Chef in New Orleans', 2006, 1, None, 3, Decimal('0.99'), 93, Decimal('29.99'), 'G', {'Commentaries', 'Behind the Scenes', 'Trailers'}, datetime.datetime(2006, 2, 15, 5, 3, 42))\n",
      "(384, 'GROSSE WONDERFUL', 'A Epic Drama of a Cat And a Explorer who must Redeem a Moose in Australia', 2006, 1, None, 5, Decimal('4.99'), 49, Decimal('19.99'), 'R', {'Behind the Scenes'}, datetime.datetime(2006, 2, 15, 5, 3, 42))\n",
      "(407, 'HAWK CHILL', 'A Action-Packed Drama of a Mad Scientist And a Composer who must Outgun a Car in Australia', 2006, 1, None, 5, Decimal('0.99'), 47, Decimal('12.99'), 'PG-13', {'Behind the Scenes'}, datetime.datetime(2006, 2, 15, 5, 3, 42))\n",
      "(418, 'HOBBIT ALIEN', 'A Emotional Drama of a Husband And a Girl who must Outgun a Composer in The First Manned Space Station', 2006, 1, None, 5, Decimal('0.99'), 157, Decimal('27.99'), 'PG-13', {'Commentaries'}, datetime.datetime(2006, 2, 15, 5, 3, 42))\n",
      "(441, 'HUNTER ALTER', 'A Emotional Drama of a Mad Cow And a Boat who must Redeem a Secret Agent in A Shark Tank', 2006, 1, None, 5, Decimal('2.99'), 125, Decimal('21.99'), 'PG-13', {'Commentaries', 'Deleted Scenes', 'Behind the Scenes'}, datetime.datetime(2006, 2, 15, 5, 3, 42))\n",
      "(448, 'IDAHO LOVE', 'A Fast-Paced Drama of a Student And a Crocodile who must Meet a Database Administrator in The Outback', 2006, 1, None, 3, Decimal('2.99'), 172, Decimal('25.99'), 'PG-13', {'Commentaries', 'Deleted Scenes', 'Behind the Scenes', 'Trailers'}, datetime.datetime(2006, 2, 15, 5, 3, 42))\n",
      "(450, 'IDOLS SNATCHERS', 'A Insightful Drama of a Car And a Composer who must Fight a Man in A Monastery', 2006, 1, None, 5, Decimal('2.99'), 84, Decimal('29.99'), 'NC-17', {'Trailers'}, datetime.datetime(2006, 2, 15, 5, 3, 42))\n",
      "(460, 'INNOCENT USUAL', 'A Beautiful Drama of a Pioneer And a Crocodile who must Challenge a Student in The Outback', 2006, 1, None, 3, Decimal('4.99'), 178, Decimal('26.99'), 'PG-13', {'Deleted Scenes', 'Behind the Scenes', 'Trailers'}, datetime.datetime(2006, 2, 15, 5, 3, 42))\n",
      "(496, 'KICK SAVANNAH', 'A Emotional Drama of a Monkey And a Robot who must Defeat a Monkey in New Orleans', 2006, 1, None, 3, Decimal('0.99'), 179, Decimal('10.99'), 'PG-13', {'Commentaries', 'Deleted Scenes', 'Trailers'}, datetime.datetime(2006, 2, 15, 5, 3, 42))\n",
      "(504, 'KWAI HOMEWARD', 'A Amazing Drama of a Car And a Squirrel who must Pursue a Car in Soviet Georgia', 2006, 1, None, 5, Decimal('0.99'), 46, Decimal('25.99'), 'PG-13', {'Commentaries', 'Trailers'}, datetime.datetime(2006, 2, 15, 5, 3, 42))\n",
      "(518, 'LIAISONS SWEET', 'A Boring Drama of a A Shark And a Explorer who must Redeem a Waitress in The Canadian Rockies', 2006, 1, None, 5, Decimal('4.99'), 140, Decimal('15.99'), 'PG', {'Commentaries', 'Behind the Scenes'}, datetime.datetime(2006, 2, 15, 5, 3, 42))\n",
      "(519, 'LIBERTY MAGNIFICENT', 'A Boring Drama of a Student And a Cat who must Sink a Technical Writer in A Baloon', 2006, 1, None, 3, Decimal('2.99'), 138, Decimal('27.99'), 'G', {'Commentaries', 'Deleted Scenes', 'Behind the Scenes'}, datetime.datetime(2006, 2, 15, 5, 3, 42))\n",
      "(528, 'LOLITA WORLD', 'A Thrilling Drama of a Girl And a Robot who must Redeem a Waitress in An Abandoned Mine Shaft', 2006, 1, None, 4, Decimal('2.99'), 155, Decimal('25.99'), 'NC-17', {'Deleted Scenes', 'Trailers'}, datetime.datetime(2006, 2, 15, 5, 3, 42))\n",
      "(532, 'LOSER HUSTLER', 'A Stunning Drama of a Robot And a Feminist who must Outgun a Butler in Nigeria', 2006, 1, None, 5, Decimal('4.99'), 80, Decimal('28.99'), 'PG', {'Deleted Scenes', 'Behind the Scenes'}, datetime.datetime(2006, 2, 15, 5, 3, 42))\n",
      "(534, 'LOUISIANA HARRY', 'A Lacklusture Drama of a Girl And a Technical Writer who must Redeem a Monkey in A Shark Tank', 2006, 1, None, 5, Decimal('0.99'), 70, Decimal('18.99'), 'PG-13', {'Trailers'}, datetime.datetime(2006, 2, 15, 5, 3, 42))\n",
      "(560, 'MARS ROMAN', 'A Boring Drama of a Car And a Dog who must Succumb a Madman in Soviet Georgia', 2006, 1, None, 6, Decimal('0.99'), 62, Decimal('21.99'), 'NC-17', {'Commentaries', 'Deleted Scenes'}, datetime.datetime(2006, 2, 15, 5, 3, 42))\n",
      "(564, 'MASSAGE IMAGE', 'A Fateful Drama of a Frisbee And a Crocodile who must Vanquish a Dog in The First Manned Space Station', 2006, 1, None, 4, Decimal('2.99'), 161, Decimal('11.99'), 'PG', {'Commentaries', 'Behind the Scenes'}, datetime.datetime(2006, 2, 15, 5, 3, 42))\n",
      "(570, 'MERMAID INSECTS', 'A Lacklusture Drama of a Waitress And a Husband who must Fight a Husband in California', 2006, 1, None, 5, Decimal('4.99'), 104, Decimal('20.99'), 'NC-17', {'Behind the Scenes', 'Trailers'}, datetime.datetime(2006, 2, 15, 5, 3, 42))\n",
      "(584, 'MIXED DOORS', 'A Taut Drama of a Womanizer And a Lumberjack who must Succumb a Pioneer in Ancient India', 2006, 1, None, 6, Decimal('2.99'), 180, Decimal('26.99'), 'PG-13', {'Behind the Scenes'}, datetime.datetime(2006, 2, 15, 5, 3, 42))\n",
      "(593, 'MONTEREY LABYRINTH', 'A Awe-Inspiring Drama of a Monkey And a Composer who must Escape a Feminist in A U-Boat', 2006, 1, None, 6, Decimal('0.99'), 158, Decimal('13.99'), 'G', {'Commentaries', 'Trailers'}, datetime.datetime(2006, 2, 15, 5, 3, 42))\n",
      "(597, 'MOONWALKER FOOL', 'A Epic Drama of a Feminist And a Pioneer who must Sink a Composer in New Orleans', 2006, 1, None, 5, Decimal('4.99'), 184, Decimal('12.99'), 'G', {'Deleted Scenes', 'Trailers'}, datetime.datetime(2006, 2, 15, 5, 3, 42))\n",
      "(632, 'NUTS TIES', 'A Thoughtful Drama of a Explorer And a Womanizer who must Meet a Teacher in California', 2006, 1, None, 5, Decimal('4.99'), 145, Decimal('10.99'), 'NC-17', {'Behind the Scenes', 'Trailers'}, datetime.datetime(2006, 2, 15, 5, 3, 42))\n",
      "(635, 'OKLAHOMA JUMANJI', 'A Thoughtful Drama of a Dentist And a Womanizer who must Meet a Husband in The Sahara Desert', 2006, 1, None, 7, Decimal('0.99'), 58, Decimal('15.99'), 'PG', {'Behind the Scenes'}, datetime.datetime(2006, 2, 15, 5, 3, 42))\n",
      "(637, 'OPEN AFRICAN', 'A Lacklusture Drama of a Secret Agent And a Explorer who must Discover a Car in A U-Boat', 2006, 1, None, 7, Decimal('4.99'), 131, Decimal('16.99'), 'PG', {'Commentaries', 'Trailers'}, datetime.datetime(2006, 2, 15, 5, 3, 42))\n",
      "(640, 'OPUS ICE', 'A Fast-Paced Drama of a Hunter And a Boy who must Discover a Feminist in The Sahara Desert', 2006, 1, None, 5, Decimal('4.99'), 102, Decimal('21.99'), 'R', {'Commentaries', 'Deleted Scenes'}, datetime.datetime(2006, 2, 15, 5, 3, 42))\n",
      "(647, 'OUTFIELD MASSACRE', 'A Thoughtful Drama of a Husband And a Secret Agent who must Pursue a Database Administrator in Ancient India', 2006, 1, None, 4, Decimal('0.99'), 129, Decimal('18.99'), 'NC-17', {'Deleted Scenes', 'Trailers'}, datetime.datetime(2006, 2, 15, 5, 3, 42))\n",
      "(652, 'PAJAMA JAWBREAKER', 'A Emotional Drama of a Boy And a Technical Writer who must Redeem a Sumo Wrestler in California', 2006, 1, None, 3, Decimal('0.99'), 126, Decimal('14.99'), 'R', {'Deleted Scenes', 'Trailers'}, datetime.datetime(2006, 2, 15, 5, 3, 42))\n",
      "(667, 'PEACH INNOCENT', 'A Action-Packed Drama of a Monkey And a Dentist who must Chase a Butler in Berlin', 2006, 1, None, 3, Decimal('2.99'), 160, Decimal('20.99'), 'PG-13', {'Commentaries', 'Behind the Scenes'}, datetime.datetime(2006, 2, 15, 5, 3, 42))\n",
      "(681, 'PIRATES ROXANNE', 'A Stunning Drama of a Woman And a Lumberjack who must Overcome a A Shark in The Canadian Rockies', 2006, 1, None, 4, Decimal('0.99'), 100, Decimal('20.99'), 'PG', {'Commentaries', 'Deleted Scenes'}, datetime.datetime(2006, 2, 15, 5, 3, 42))\n",
      "(690, 'POND SEATTLE', 'A Stunning Drama of a Teacher And a Boat who must Battle a Feminist in Ancient China', 2006, 1, None, 7, Decimal('2.99'), 185, Decimal('25.99'), 'PG-13', {'Commentaries', 'Behind the Scenes', 'Trailers'}, datetime.datetime(2006, 2, 15, 5, 3, 42))\n",
      "(696, 'PRIDE ALAMO', 'A Thoughtful Drama of a A Shark And a Forensic Psychologist who must Vanquish a Student in Ancient India', 2006, 1, None, 6, Decimal('0.99'), 114, Decimal('20.99'), 'NC-17', {'Deleted Scenes'}, datetime.datetime(2006, 2, 15, 5, 3, 42))\n",
      "(707, 'QUEST MUSSOLINI', 'A Fateful Drama of a Husband And a Sumo Wrestler who must Battle a Pastry Chef in A Baloon Factory', 2006, 1, None, 5, Decimal('2.99'), 177, Decimal('29.99'), 'R', {'Behind the Scenes'}, datetime.datetime(2006, 2, 15, 5, 3, 42))\n",
      "(712, 'RAIDERS ANTITRUST', 'A Amazing Drama of a Teacher And a Feminist who must Meet a Woman in The First Manned Space Station', 2006, 1, None, 4, Decimal('0.99'), 82, Decimal('11.99'), 'PG-13', {'Deleted Scenes'}, datetime.datetime(2006, 2, 15, 5, 3, 42))\n",
      "(714, 'RANDOM GO', 'A Fateful Drama of a Frisbee And a Student who must Confront a Cat in A Shark Tank', 2006, 1, None, 6, Decimal('2.99'), 73, Decimal('29.99'), 'NC-17', {'Trailers'}, datetime.datetime(2006, 2, 15, 5, 3, 42))\n",
      "(719, 'RECORDS ZORRO', 'A Amazing Drama of a Mad Scientist And a Composer who must Build a Husband in The Outback', 2006, 1, None, 7, Decimal('4.99'), 182, Decimal('11.99'), 'PG', {'Behind the Scenes'}, datetime.datetime(2006, 2, 15, 5, 3, 42))\n",
      "(726, 'RESERVOIR ADAPTATION', 'A Intrepid Drama of a Teacher And a Moose who must Kill a Car in California', 2006, 1, None, 7, Decimal('2.99'), 61, Decimal('29.99'), 'PG-13', {'Commentaries'}, datetime.datetime(2006, 2, 15, 5, 3, 42))\n",
      "(730, 'RIDGEMONT SUBMARINE', 'A Unbelieveable Drama of a Waitress And a Composer who must Sink a Mad Cow in Ancient Japan', 2006, 1, None, 3, Decimal('0.99'), 46, Decimal('28.99'), 'PG-13', {'Commentaries', 'Deleted Scenes', 'Behind the Scenes'}, datetime.datetime(2006, 2, 15, 5, 3, 42))\n",
      "(740, 'ROLLERCOASTER BRINGING', 'A Beautiful Drama of a Robot And a Lumberjack who must Discover a Technical Writer in A Shark Tank', 2006, 1, None, 5, Decimal('2.99'), 153, Decimal('13.99'), 'PG-13', {'Commentaries', 'Deleted Scenes', 'Trailers'}, datetime.datetime(2006, 2, 15, 5, 3, 42))\n",
      "(744, 'ROOTS REMEMBER', 'A Brilliant Drama of a Mad Cow And a Hunter who must Escape a Hunter in Berlin', 2006, 1, None, 4, Decimal('0.99'), 89, Decimal('23.99'), 'PG-13', {'Commentaries', 'Deleted Scenes', 'Behind the Scenes'}, datetime.datetime(2006, 2, 15, 5, 3, 42))\n",
      "(746, 'ROUGE SQUAD', 'A Awe-Inspiring Drama of a Astronaut And a Frisbee who must Conquer a Mad Scientist in Australia', 2006, 1, None, 3, Decimal('0.99'), 118, Decimal('10.99'), 'NC-17', {'Commentaries', 'Deleted Scenes', 'Behind the Scenes'}, datetime.datetime(2006, 2, 15, 5, 3, 42))\n",
      "(770, 'SCISSORHANDS SLUMS', 'A Awe-Inspiring Drama of a Girl And a Technical Writer who must Meet a Feminist in The Canadian Rockies', 2006, 1, None, 5, Decimal('2.99'), 147, Decimal('13.99'), 'G', {'Commentaries', 'Deleted Scenes', 'Behind the Scenes'}, datetime.datetime(2006, 2, 15, 5, 3, 42))\n",
      "(786, 'SHEPHERD MIDSUMMER', 'A Thoughtful Drama of a Robot And a Womanizer who must Kill a Lumberjack in A Baloon', 2006, 1, None, 7, Decimal('0.99'), 113, Decimal('14.99'), 'R', {'Deleted Scenes'}, datetime.datetime(2006, 2, 15, 5, 3, 42))\n",
      "(797, 'SILENCE KANE', 'A Emotional Drama of a Sumo Wrestler And a Dentist who must Confront a Sumo Wrestler in A Baloon', 2006, 1, None, 7, Decimal('0.99'), 67, Decimal('23.99'), 'R', {'Deleted Scenes', 'Behind the Scenes', 'Trailers'}, datetime.datetime(2006, 2, 15, 5, 3, 42))\n",
      "(802, 'SKY MIRACLE', 'A Epic Drama of a Mad Scientist And a Explorer who must Succumb a Waitress in An Abandoned Fun House', 2006, 1, None, 7, Decimal('2.99'), 132, Decimal('15.99'), 'PG', {'Commentaries', 'Deleted Scenes', 'Trailers'}, datetime.datetime(2006, 2, 15, 5, 3, 42))\n",
      "(811, 'SMILE EARRING', 'A Intrepid Drama of a Teacher And a Butler who must Build a Pastry Chef in Berlin', 2006, 1, None, 4, Decimal('2.99'), 60, Decimal('29.99'), 'G', {'Commentaries', 'Behind the Scenes'}, datetime.datetime(2006, 2, 15, 5, 3, 42))\n",
      "(825, 'SPEAKEASY DATE', 'A Lacklusture Drama of a Forensic Psychologist And a Car who must Redeem a Man in A Manhattan Penthouse', 2006, 1, None, 6, Decimal('2.99'), 165, Decimal('22.99'), 'PG-13', {'Deleted Scenes', 'Behind the Scenes'}, datetime.datetime(2006, 2, 15, 5, 3, 42))\n",
      "(846, 'STING PERSONAL', 'A Fanciful Drama of a Frisbee And a Dog who must Fight a Madman in A Jet Boat', 2006, 1, None, 3, Decimal('4.99'), 93, Decimal('9.99'), 'NC-17', {'Commentaries', 'Deleted Scenes', 'Behind the Scenes'}, datetime.datetime(2006, 2, 15, 5, 3, 42))\n",
      "(848, 'STONE FIRE', 'A Intrepid Drama of a Astronaut And a Crocodile who must Find a Boat in Soviet Georgia', 2006, 1, None, 3, Decimal('0.99'), 94, Decimal('19.99'), 'G', {'Trailers'}, datetime.datetime(2006, 2, 15, 5, 3, 42))\n",
      "(849, 'STORM HAPPINESS', 'A Insightful Drama of a Feminist And a A Shark who must Vanquish a Boat in A Shark Tank', 2006, 1, None, 6, Decimal('0.99'), 57, Decimal('28.99'), 'NC-17', {'Commentaries', 'Behind the Scenes', 'Trailers'}, datetime.datetime(2006, 2, 15, 5, 3, 42))\n",
      "(864, 'SUNDANCE INVASION', 'A Epic Drama of a Lumberjack And a Explorer who must Confront a Hunter in A Baloon Factory', 2006, 1, None, 5, Decimal('0.99'), 92, Decimal('21.99'), 'NC-17', {'Commentaries', 'Behind the Scenes'}, datetime.datetime(2006, 2, 15, 5, 3, 42))\n",
      "(878, 'TEEN APOLLO', 'A Awe-Inspiring Drama of a Dog And a Man who must Escape a Robot in A Shark Tank', 2006, 1, None, 3, Decimal('4.99'), 74, Decimal('25.99'), 'G', {'Deleted Scenes', 'Behind the Scenes', 'Trailers'}, datetime.datetime(2006, 2, 15, 5, 3, 42))\n",
      "(888, 'THIN SAGEBRUSH', 'A Emotional Drama of a Husband And a Lumberjack who must Build a Cat in Ancient India', 2006, 1, None, 5, Decimal('4.99'), 53, Decimal('9.99'), 'PG-13', {'Behind the Scenes'}, datetime.datetime(2006, 2, 15, 5, 3, 42))\n",
      "(905, 'TRAINSPOTTING STRANGERS', 'A Fast-Paced Drama of a Pioneer And a Mad Cow who must Challenge a Madman in Ancient Japan', 2006, 1, None, 7, Decimal('4.99'), 132, Decimal('10.99'), 'PG-13', {'Trailers'}, datetime.datetime(2006, 2, 15, 5, 3, 42))\n",
      "(913, 'TROOPERS METAL', 'A Fanciful Drama of a Monkey And a Feminist who must Sink a Man in Berlin', 2006, 1, None, 3, Decimal('0.99'), 115, Decimal('20.99'), 'R', {'Deleted Scenes', 'Behind the Scenes'}, datetime.datetime(2006, 2, 15, 5, 3, 42))\n",
      "(917, 'TUXEDO MILE', 'A Boring Drama of a Man And a Forensic Psychologist who must Face a Frisbee in Ancient India', 2006, 1, None, 3, Decimal('2.99'), 152, Decimal('24.99'), 'R', {'Commentaries', 'Deleted Scenes', 'Behind the Scenes'}, datetime.datetime(2006, 2, 15, 5, 3, 42))\n",
      "(952, 'WAGON JAWS', 'A Intrepid Drama of a Moose And a Boat who must Kill a Explorer in A Manhattan Penthouse', 2006, 1, None, 7, Decimal('2.99'), 152, Decimal('17.99'), 'PG', {'Deleted Scenes', 'Behind the Scenes'}, datetime.datetime(2006, 2, 15, 5, 3, 42))\n",
      "(956, 'WANDA CHAMBER', 'A Insightful Drama of a A Shark And a Pioneer who must Find a Womanizer in The Outback', 2006, 1, None, 7, Decimal('4.99'), 107, Decimal('23.99'), 'PG-13', {'Commentaries', 'Deleted Scenes', 'Behind the Scenes'}, datetime.datetime(2006, 2, 15, 5, 3, 42))\n",
      "(957, 'WAR NOTTING', 'A Boring Drama of a Teacher And a Sumo Wrestler who must Challenge a Secret Agent in The Canadian Rockies', 2006, 1, None, 7, Decimal('4.99'), 80, Decimal('26.99'), 'G', {'Deleted Scenes', 'Behind the Scenes'}, datetime.datetime(2006, 2, 15, 5, 3, 42))\n",
      "(969, 'WEST LION', 'A Intrepid Drama of a Butler And a Lumberjack who must Challenge a Database Administrator in A Manhattan Penthouse', 2006, 1, None, 4, Decimal('4.99'), 159, Decimal('29.99'), 'G', {'Trailers'}, datetime.datetime(2006, 2, 15, 5, 3, 42))\n",
      "(979, 'WITCHES PANIC', 'A Awe-Inspiring Drama of a Secret Agent And a Hunter who must Fight a Moose in Nigeria', 2006, 1, None, 6, Decimal('4.99'), 100, Decimal('10.99'), 'NC-17', {'Commentaries', 'Behind the Scenes'}, datetime.datetime(2006, 2, 15, 5, 3, 42))\n",
      "(981, 'WOLVES DESIRE', 'A Fast-Paced Drama of a Squirrel And a Robot who must Succumb a Technical Writer in A Manhattan Penthouse', 2006, 1, None, 7, Decimal('0.99'), 55, Decimal('13.99'), 'NC-17', {'Behind the Scenes'}, datetime.datetime(2006, 2, 15, 5, 3, 42))\n",
      "(991, 'WORST BANGER', 'A Thrilling Drama of a Madman And a Dentist who must Conquer a Boy in The Outback', 2006, 1, None, 4, Decimal('2.99'), 185, Decimal('26.99'), 'PG', {'Deleted Scenes', 'Behind the Scenes'}, datetime.datetime(2006, 2, 15, 5, 3, 42))\n",
      "(997, 'YOUTH KICK', 'A Touching Drama of a Teacher And a Cat who must Challenge a Technical Writer in A U-Boat', 2006, 1, None, 4, Decimal('0.99'), 179, Decimal('14.99'), 'NC-17', {'Behind the Scenes', 'Trailers'}, datetime.datetime(2006, 2, 15, 5, 3, 42))\n"
     ]
    }
   ],
   "source": [
    "mycursor.execute(\"SELECT * FROM film where description like '% Drama %'\")\n",
    "\n",
    "myresult = mycursor.fetchall()\n",
    "\n",
    "for x in myresult:\n",
    "  print(x)"
   ]
  },
  {
   "cell_type": "code",
   "execution_count": 40,
   "id": "bf39e426",
   "metadata": {},
   "outputs": [],
   "source": []
  },
  {
   "cell_type": "code",
   "execution_count": null,
   "id": "862bd68b",
   "metadata": {},
   "outputs": [],
   "source": []
  }
 ],
 "metadata": {
  "kernelspec": {
   "display_name": "Python 3 (ipykernel)",
   "language": "python",
   "name": "python3"
  },
  "language_info": {
   "codemirror_mode": {
    "name": "ipython",
    "version": 3
   },
   "file_extension": ".py",
   "mimetype": "text/x-python",
   "name": "python",
   "nbconvert_exporter": "python",
   "pygments_lexer": "ipython3",
   "version": "3.9.6"
  }
 },
 "nbformat": 4,
 "nbformat_minor": 5
}
